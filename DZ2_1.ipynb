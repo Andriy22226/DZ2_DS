{
 "cells": [
  {
   "cell_type": "code",
   "execution_count": 1,
   "id": "cb59edc4-4a02-4631-ac9b-baaa4debed8d",
   "metadata": {
    "tags": []
   },
   "outputs": [
    {
     "ename": "ModuleNotFoundError",
     "evalue": "No module named 'google'",
     "output_type": "error",
     "traceback": [
      "\u001b[1;31m---------------------------------------------------------------------------\u001b[0m",
      "\u001b[1;31mModuleNotFoundError\u001b[0m                       Traceback (most recent call last)",
      "Cell \u001b[1;32mIn[1], line 5\u001b[0m\n\u001b[0;32m      3\u001b[0m \u001b[38;5;28;01mimport\u001b[39;00m \u001b[38;5;21;01mnumpy\u001b[39;00m \u001b[38;5;28;01mas\u001b[39;00m \u001b[38;5;21;01mnp\u001b[39;00m\n\u001b[0;32m      4\u001b[0m \u001b[38;5;28;01mimport\u001b[39;00m \u001b[38;5;21;01mseaborn\u001b[39;00m \u001b[38;5;28;01mas\u001b[39;00m \u001b[38;5;21;01msns\u001b[39;00m\n\u001b[1;32m----> 5\u001b[0m \u001b[38;5;28;01mfrom\u001b[39;00m \u001b[38;5;21;01mgoogle\u001b[39;00m\u001b[38;5;21;01m.\u001b[39;00m\u001b[38;5;21;01mcolab\u001b[39;00m \u001b[38;5;28;01mimport\u001b[39;00m drive\n\u001b[0;32m      6\u001b[0m drive\u001b[38;5;241m.\u001b[39mmount(\u001b[38;5;124m\"\u001b[39m\u001b[38;5;124m/drive\u001b[39m\u001b[38;5;124m\"\u001b[39m,force_remount\u001b[38;5;241m=\u001b[39m\u001b[38;5;28;01mTrue\u001b[39;00m)\n",
      "\u001b[1;31mModuleNotFoundError\u001b[0m: No module named 'google'"
     ]
    }
   ],
   "source": [
    "import pandas as pd\n",
    "import matplotlib.pyplot as plt\n",
    "import numpy as np\n",
    "import seaborn as sns\n",
    "from google.colab import drive\n",
    "drive.mount(\"/drive\",force_remount=True)"
   ]
  },
  {
   "cell_type": "code",
   "execution_count": null,
   "id": "f904ff43-5672-4d7f-bd23-692df2add444",
   "metadata": {
    "tags": []
   },
   "outputs": [],
   "source": [
    "table = pd.read_html(\"https://uk.wikipedia.org/wiki/%D0%9D%D0%B0%D1%81%D0%B5%D0%BB%D0%B5%D0%BD%D0%BD%D1%8F_%D0%A3%D0%BA%D1%80%D0%B0%D1%97%D0%BD%D0%B8\",match='(1950—2019)',attrs={\"style\":\"text-align: right\"})\n",
    "\n",
    "print(table[0].head())"
   ]
  },
  {
   "cell_type": "code",
   "execution_count": null,
   "id": "3b930b08-12d8-439e-8930-491fa3641af7",
   "metadata": {
    "tags": []
   },
   "outputs": [],
   "source": [
    "people = pd.DataFrame(table[0])\n",
    "\n",
    "print(people)\n",
    "print(people.shape)"
   ]
  },
  {
   "cell_type": "code",
   "execution_count": null,
   "id": "40118c47-a8ff-4948-b028-72989d564174",
   "metadata": {
    "tags": []
   },
   "outputs": [],
   "source": [
    "people.replace(\"—\",  np.nan, inplace=True)\n",
    "\n",
    "print(people)"
   ]
  },
  {
   "cell_type": "code",
   "execution_count": null,
   "id": "1e1059ec-4333-41d2-b25a-074d108d84ca",
   "metadata": {
    "tags": []
   },
   "outputs": [],
   "source": [
    "columns_to_convert = [\"1950\",\"1960\",\"1970\",\"1990\",\"2000\",\"2012\",\"2014\", \"2019\"]\n",
    "\n",
    "people[columns_to_convert] = people[columns_to_convert].apply(pd.to_numeric)\n",
    "\n",
    "print(people.dtypes)"
   ]
  },
  {
   "cell_type": "code",
   "execution_count": null,
   "id": "4e999895-fc59-4688-8189-9933ec00368c",
   "metadata": {
    "tags": []
   },
   "outputs": [],
   "source": [
    "missing_percentage = (people.isnull().sum() / len(people)) * 100\n",
    "\n",
    "print(missing_percentage)"
   ]
  },
  {
   "cell_type": "code",
   "execution_count": null,
   "id": "560f2d0b-d18f-476d-99ec-8510daa352e8",
   "metadata": {
    "tags": []
   },
   "outputs": [],
   "source": [
    "people_new=people.drop(27)\n",
    "print(people_new)\n"
   ]
  },
  {
   "cell_type": "code",
   "execution_count": null,
   "id": "cff1026c-dc11-4f2e-997d-acc1c257a3cc",
   "metadata": {
    "tags": []
   },
   "outputs": [],
   "source": [
    "people_change = people_new.fillna({'1950': people_new['1950'].mean(),'1960': people_new['1960'].mean(),'1970': people_new['1970'].mean(),'2014': people_new['2014'].mean(), '2019': people_new['2019'].mean()})\n",
    "print(people_change)"
   ]
  },
  {
   "cell_type": "code",
   "execution_count": null,
   "id": "d7c00317-c45d-476b-9312-44a0220fa714",
   "metadata": {
    "tags": []
   },
   "outputs": [],
   "source": [
    "print(people_change['2019'].mean())\n",
    "print(people_change[people_change['2019'] > people_change['2019'].mean()])"
   ]
  },
  {
   "cell_type": "code",
   "execution_count": null,
   "id": "907388ee-ee6c-4c0d-8813-33d875791e26",
   "metadata": {
    "tags": []
   },
   "outputs": [],
   "source": [
    "highest_birthrate_2014 = people_change[['Регіон', '2014']].sort_values(by='2014', ascending=False)\n",
    "\n",
    "region_with_highest_birthrate_2014 = highest_birthrate_2014.iloc[0]\n",
    "\n",
    "highest_birthrate_region_2014 = region_with_highest_birthrate_2014['Регіон']\n",
    "\n",
    "print(\"Регіон з найвищою народжуваністю у 2014 році:\", highest_birthrate_region_2014 , \"----\", region_with_highest_birthrate_2014['2014'])"
   ]
  },
  {
   "cell_type": "code",
   "execution_count": null,
   "id": "98332827-b95a-4270-8081-b3ba5c2d0adb",
   "metadata": {
    "tags": []
   },
   "outputs": [],
   "source": [
    "plt.figure(figsize=(45, 20))\n",
    "plt.bar(\n",
    "    people_change['Регіон'],people_change['2019'], color='skyblue'\n",
    ")\n",
    "\n",
    "plt.xlabel(\"Регіон\", fontsize=\"small\", color=\"midnightblue\")\n",
    "plt.ylabel(\"Народжуваність в 2019 році\", fontsize=\"small\", color=\"midnightblue\")\n",
    "plt.title(\"Народжуваність в різних регіонах України у 2019 році\", fontsize=15)\n",
    "plt.show()"
   ]
  },
  {
   "cell_type": "code",
   "execution_count": null,
   "id": "72679923-b344-45a5-8767-2c2f992f82aa",
   "metadata": {
    "tags": []
   },
   "outputs": [],
   "source": [
    "%matplotlib inline"
   ]
  },
  {
   "cell_type": "code",
   "execution_count": null,
   "id": "697e1a59-edb7-44a6-96d3-89d048d4955e",
   "metadata": {},
   "outputs": [],
   "source": []
  }
 ],
 "metadata": {
  "kernelspec": {
   "display_name": "Python 3 (ipykernel)",
   "language": "python",
   "name": "python3"
  },
  "language_info": {
   "codemirror_mode": {
    "name": "ipython",
    "version": 3
   },
   "file_extension": ".py",
   "mimetype": "text/x-python",
   "name": "python",
   "nbconvert_exporter": "python",
   "pygments_lexer": "ipython3",
   "version": "3.11.3"
  }
 },
 "nbformat": 4,
 "nbformat_minor": 5
}
