{
 "cells": [
  {
   "cell_type": "code",
   "execution_count": 1,
   "id": "c8e75e48-bb6a-4377-8221-6845735f2643",
   "metadata": {
    "tags": []
   },
   "outputs": [
    {
     "ename": "ModuleNotFoundError",
     "evalue": "No module named 'google'",
     "output_type": "error",
     "traceback": [
      "\u001b[1;31m---------------------------------------------------------------------------\u001b[0m",
      "\u001b[1;31mModuleNotFoundError\u001b[0m                       Traceback (most recent call last)",
      "Cell \u001b[1;32mIn[1], line 5\u001b[0m\n\u001b[0;32m      3\u001b[0m \u001b[38;5;28;01mimport\u001b[39;00m \u001b[38;5;21;01mnumpy\u001b[39;00m \u001b[38;5;28;01mas\u001b[39;00m \u001b[38;5;21;01mnp\u001b[39;00m\n\u001b[0;32m      4\u001b[0m \u001b[38;5;28;01mimport\u001b[39;00m \u001b[38;5;21;01mseaborn\u001b[39;00m \u001b[38;5;28;01mas\u001b[39;00m \u001b[38;5;21;01msns\u001b[39;00m\n\u001b[1;32m----> 5\u001b[0m \u001b[38;5;28;01mfrom\u001b[39;00m \u001b[38;5;21;01mgoogle\u001b[39;00m\u001b[38;5;21;01m.\u001b[39;00m\u001b[38;5;21;01mcolab\u001b[39;00m \u001b[38;5;28;01mimport\u001b[39;00m drive\n\u001b[0;32m      6\u001b[0m drive\u001b[38;5;241m.\u001b[39mmount(\u001b[38;5;124m\"\u001b[39m\u001b[38;5;124m/drive\u001b[39m\u001b[38;5;124m\"\u001b[39m,force_remount\u001b[38;5;241m=\u001b[39m\u001b[38;5;28;01mTrue\u001b[39;00m)\n",
      "\u001b[1;31mModuleNotFoundError\u001b[0m: No module named 'google'"
     ]
    }
   ],
   "source": [
    "import pandas as pd\n",
    "import matplotlib.pyplot as plt\n",
    "import numpy as np\n",
    "import seaborn as sns\n",
    "from google.colab import drive\n",
    "drive.mount(\"/drive\",force_remount=True)"
   ]
  },
  {
   "cell_type": "code",
   "execution_count": null,
   "id": "f4c11f87-9b73-48b1-bce0-4f3173875685",
   "metadata": {
    "tags": []
   },
   "outputs": [],
   "source": [
    "table=pd.read_csv(\"/drive/My Drive/bestsellers with categories.csv\")\n",
    "print(table.head())"
   ]
  },
  {
   "cell_type": "code",
   "execution_count": null,
   "id": "ea07a051-a428-4493-81e3-f793765cb229",
   "metadata": {
    "tags": []
   },
   "outputs": [],
   "source": [
    "print(table.shape)"
   ]
  },
  {
   "cell_type": "code",
   "execution_count": null,
   "id": "544a7358-2f21-4d43-ba2f-258dd1208c44",
   "metadata": {
    "tags": []
   },
   "outputs": [],
   "source": [
    "print(table)"
   ]
  },
  {
   "cell_type": "code",
   "execution_count": null,
   "id": "a5bb5174-a88b-4c70-add1-cc3163b5446e",
   "metadata": {
    "tags": []
   },
   "outputs": [],
   "source": [
    "table.columns = ['name', 'author', 'user_rating', 'reviews', 'price', 'year', 'genre']\n",
    "print(table)"
   ]
  },
  {
   "cell_type": "code",
   "execution_count": null,
   "id": "2b9fc8aa-9178-4c04-b83c-f6f2c31962fc",
   "metadata": {
    "tags": []
   },
   "outputs": [],
   "source": [
    "missing_percentage = (table.isnull().sum() / len(table)) * 100\n",
    "\n",
    "print(missing_percentage)"
   ]
  },
  {
   "cell_type": "code",
   "execution_count": null,
   "id": "b0e0553a-5044-4ae7-a784-37827922c15e",
   "metadata": {
    "tags": []
   },
   "outputs": [],
   "source": [
    "unique_genres = table['genre'].unique()\n",
    "print(unique_genres)"
   ]
  },
  {
   "cell_type": "code",
   "execution_count": null,
   "id": "b2121e12-ad4e-45ea-830c-1e4811d7def1",
   "metadata": {
    "tags": []
   },
   "outputs": [],
   "source": [
    "prices = table['price']\n",
    "\n",
    "sns.histplot(prices, bins=20, kde=True)\n",
    "plt.title('Розподіл цін')\n",
    "plt.xlabel('Ціна')\n",
    "plt.ylabel('Частота')\n",
    "plt.show()"
   ]
  },
  {
   "cell_type": "code",
   "execution_count": null,
   "id": "4b0f5003-301f-41e6-9dba-7703db888187",
   "metadata": {
    "tags": []
   },
   "outputs": [],
   "source": [
    "print(prices.min())\n",
    "print(prices.max())\n",
    "print(prices.mean())\n",
    "print(prices.median())"
   ]
  },
  {
   "cell_type": "code",
   "execution_count": null,
   "id": "4c9226dd-67eb-43c5-96d4-914f6488967f",
   "metadata": {
    "tags": []
   },
   "outputs": [],
   "source": [
    "x=table['user_rating'].max()\n",
    "print(x)"
   ]
  },
  {
   "cell_type": "code",
   "execution_count": null,
   "id": "01e5e7d9-1227-408b-83b9-a5a1544683f7",
   "metadata": {
    "tags": []
   },
   "outputs": [],
   "source": [
    "books_with_max_rating = table[table['user_rating'] == x]\n",
    "count_books_with_max_rating = len(books_with_max_rating)\n",
    "print(count_books_with_max_rating)"
   ]
  },
  {
   "cell_type": "code",
   "execution_count": null,
   "id": "73a621e8-e04b-4fa4-b7be-52d8a80aee5a",
   "metadata": {
    "tags": []
   },
   "outputs": [],
   "source": [
    "book=table[table['reviews'] == table['reviews'].max()]\n",
    "print(book)"
   ]
  },
  {
   "cell_type": "code",
   "execution_count": null,
   "id": "d9b4ec22-3d40-4faf-aaed-ac574150fbf2",
   "metadata": {
    "tags": []
   },
   "outputs": [],
   "source": [
    "books = table[(table['genre'] == 'Fiction') & (table['year'] == 2010)]\n",
    "\n",
    "# Підраховуємо кількість книг, які задовольняють цю умову\n",
    "count_books = len(books)\n",
    "print(count_books)"
   ]
  },
  {
   "cell_type": "code",
   "execution_count": null,
   "id": "68dd5752-0527-4581-80e2-b05fbe3113ae",
   "metadata": {
    "tags": []
   },
   "outputs": [],
   "source": [
    "books = table[(table['user_rating'] == 4.9) & (table['year'] == 2010|2011)]\n",
    "\n",
    "\n",
    "count_books = len(books)\n",
    "print(count_books)"
   ]
  },
  {
   "cell_type": "code",
   "execution_count": null,
   "id": "c3a0cbf5-f35f-4970-ba80-7fe5de8fc873",
   "metadata": {
    "tags": []
   },
   "outputs": [],
   "source": [
    "books = table[(table['year'] == 2015) & (table['price'] < 8)]\n",
    "\n",
    "books_sort = books.sort_values(by='price')\n",
    "\n",
    "print(books_sort)"
   ]
  },
  {
   "cell_type": "code",
   "execution_count": null,
   "id": "4671b07d-2545-4526-8aa2-9964dfdb04b0",
   "metadata": {
    "tags": []
   },
   "outputs": [],
   "source": [
    "max_min = table.groupby('genre').agg({'price': ['max', 'min']})\n",
    "print(max_min)"
   ]
  },
  {
   "cell_type": "code",
   "execution_count": null,
   "id": "1750580c-fee3-42ea-9029-83c2311f8a76",
   "metadata": {
    "tags": []
   },
   "outputs": [],
   "source": [
    "authors = table.groupby('author').agg({'name': 'count'})\n",
    "print(authors)\n",
    "print(authors[authors['name']==12])\n",
    "print(authors.max())"
   ]
  },
  {
   "cell_type": "code",
   "execution_count": null,
   "id": "7a22b8a2-b0e9-4a20-acf9-f8bb4d40529c",
   "metadata": {
    "tags": []
   },
   "outputs": [],
   "source": [
    "authors_avg = table.groupby('author').agg({'user_rating': 'mean'})\n",
    "print(authors_avg[authors_avg['user_rating']==authors_avg['user_rating'].min()])"
   ]
  },
  {
   "cell_type": "code",
   "execution_count": null,
   "id": "a0ee2a37-8f1d-4892-b167-10a8e28e6a7a",
   "metadata": {
    "tags": []
   },
   "outputs": [],
   "source": [
    "employees = pd.concat([authors, authors_avg], axis=1)\n",
    "\n",
    "print(employees)"
   ]
  },
  {
   "cell_type": "code",
   "execution_count": null,
   "id": "001edea0-031c-4397-aabf-532a31e8d2b5",
   "metadata": {
    "tags": []
   },
   "outputs": [],
   "source": [
    "sorted_employees = employees.sort_values(by=['name', 'user_rating'], ascending=[True, True])\n",
    "\n",
    "print(sorted_employees)"
   ]
  },
  {
   "cell_type": "code",
   "execution_count": null,
   "id": "359abe88-31ad-40e3-93b4-c2f33cada97b",
   "metadata": {
    "tags": []
   },
   "outputs": [],
   "source": [
    "%matplotlib inline"
   ]
  },
  {
   "cell_type": "code",
   "execution_count": null,
   "id": "a7c713a4-4b5a-46f9-920b-d888bae57ead",
   "metadata": {
    "tags": []
   },
   "outputs": [],
   "source": [
    "authors=authors.sort_values(by=['name'],ascending=False)\n",
    "plt.plot(authors.head(10), label='count', color='green')\n",
    "plt.xlabel('Автори', fontsize='medium', color='green')\n",
    "plt.ylabel('Кількість', fontsize='medium', color='green')\n",
    "plt.title('Кількість книг у кожного автора', fontsize=15)\n",
    "plt.xticks( rotation=90)\n",
    "plt.show()"
   ]
  },
  {
   "cell_type": "code",
   "execution_count": null,
   "id": "3ee3b16f-ada3-40ba-bff0-c2b886bd256c",
   "metadata": {
    "tags": []
   },
   "outputs": [],
   "source": [
    "authors_avg_rewie = table.groupby('author').agg({'reviews': 'mean'})\n",
    "employees2 = pd.concat([employees, authors_avg_rewie], axis=1)\n",
    "authors_2=employees2.sort_values(by=['name'],ascending=False)\n",
    "plot=sns.scatterplot(x='name', y='user_rating', hue='author',  data=authors_2.head(10))\n",
    "plot.figure.set_size_inches(20, 6)\n",
    "\n",
    "plt.show()"
   ]
  },
  {
   "cell_type": "code",
   "execution_count": null,
   "id": "9a1cbc54-a0d2-45b2-a10b-4bb6725fa89f",
   "metadata": {},
   "outputs": [],
   "source": []
  }
 ],
 "metadata": {
  "kernelspec": {
   "display_name": "Python 3 (ipykernel)",
   "language": "python",
   "name": "python3"
  },
  "language_info": {
   "codemirror_mode": {
    "name": "ipython",
    "version": 3
   },
   "file_extension": ".py",
   "mimetype": "text/x-python",
   "name": "python",
   "nbconvert_exporter": "python",
   "pygments_lexer": "ipython3",
   "version": "3.11.3"
  }
 },
 "nbformat": 4,
 "nbformat_minor": 5
}
